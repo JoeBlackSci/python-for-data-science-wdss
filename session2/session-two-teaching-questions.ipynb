{
 "cells": [
  {
   "cell_type": "markdown",
   "metadata": {},
   "source": [
    "# Python for Data Science Teaching Session 2: Data Visualisation"
   ]
  },
  {
   "cell_type": "markdown",
   "metadata": {},
   "source": [
    "## Introduction"
   ]
  },
  {
   "cell_type": "markdown",
   "metadata": {},
   "source": [
    "### Session Objectives"
   ]
  },
  {
   "cell_type": "markdown",
   "metadata": {},
   "source": [
    "- Creating scatter and line plots\n",
    "- Subplots and layouts\n",
    "- Barplots and histograms\n",
    "- Plot aesthetics and saving"
   ]
  },
  {
   "cell_type": "markdown",
   "metadata": {},
   "source": [
    "## Getting Started with Matplotlib"
   ]
  },
  {
   "cell_type": "markdown",
   "metadata": {},
   "source": [
    "### What is Matplotlib?"
   ]
  },
  {
   "cell_type": "markdown",
   "metadata": {},
   "source": [
    "Matplotlib is a Python library for creating high-quality visualisations with minimal effort. There are a few important points to note:\n",
    "- Alongside Pandas, Matplotlib is also part of the SciPy stack\n",
    "- It is not only used for static plots but also animations and interactive plots\n",
    "- It is the foundation for many other Python libraries such as Seaborn, plotnine, and HoloViews"
   ]
  },
  {
   "cell_type": "markdown",
   "metadata": {},
   "source": [
    "There are two main ways of using Matplotlib, known as the two interfaces. \n",
    "\n",
    "|           Pyplot Interface          | Object-Oriented Interface |\n",
    "|:-----------------------------------:|:-------------------------:|\n",
    "|          Inspired by MATLAB         |     Inspired by Python    |\n",
    "|          Less code requires         |  Requires some setup code |\n",
    "|             More limited            |    Completely flexible    |\n",
    "| Largely incompatible with animation |    Allows for animation   |\n",
    "\n",
    "Many introductory tutorials focus on the former or change between the two without making a clear distinction. Instead, we will solely use the object-oriented interface in this session, as it is the most versatile in the long-run. Confusingly, the object-oriented interface still uses the `pyplot` submodule to initialise plots, but after this, we use a purely object-oriented style."
   ]
  },
  {
   "cell_type": "markdown",
   "metadata": {},
   "source": [
    "We can start by importing the `pyplot` submodule as `plt` alongside Pandas. For this session, we will use a dataset related to traffic volume, which can be downloaded from this session's [resources](https://education.wdss.io/python-for-data-science/session-two). You can learn more about the dataset [here](https://archive.ics.uci.edu/ml/datasets/Metro+Interstate+Traffic+Volume). All preprocessing code is implemented for you since that is not the focus of this session, but it is worthwhile having a look through to understand what the code is doing."
   ]
  },
  {
   "cell_type": "code",
   "execution_count": 1,
   "metadata": {},
   "outputs": [],
   "source": [
    "# Import packages\n",
    "import matplotlib.pyplot as plt\n",
    "import pandas as pd"
   ]
  },
  {
   "cell_type": "code",
   "execution_count": 2,
   "metadata": {},
   "outputs": [
    {
     "data": {
      "text/html": [
       "<div>\n",
       "<style scoped>\n",
       "    .dataframe tbody tr th:only-of-type {\n",
       "        vertical-align: middle;\n",
       "    }\n",
       "\n",
       "    .dataframe tbody tr th {\n",
       "        vertical-align: top;\n",
       "    }\n",
       "\n",
       "    .dataframe thead th {\n",
       "        text-align: right;\n",
       "    }\n",
       "</style>\n",
       "<table border=\"1\" class=\"dataframe\">\n",
       "  <thead>\n",
       "    <tr style=\"text-align: right;\">\n",
       "      <th></th>\n",
       "      <th>temp</th>\n",
       "      <th>rain_1h</th>\n",
       "      <th>snow_1h</th>\n",
       "      <th>clouds_all</th>\n",
       "      <th>weather_main</th>\n",
       "      <th>weather_description</th>\n",
       "      <th>date_time</th>\n",
       "      <th>traffic_volume</th>\n",
       "      <th>holiday</th>\n",
       "    </tr>\n",
       "  </thead>\n",
       "  <tbody>\n",
       "    <tr>\n",
       "      <th>0</th>\n",
       "      <td>289.48</td>\n",
       "      <td>0.0</td>\n",
       "      <td>0.0</td>\n",
       "      <td>20</td>\n",
       "      <td>Clouds</td>\n",
       "      <td>few clouds</td>\n",
       "      <td>2016-06-01 01:00:00</td>\n",
       "      <td>441</td>\n",
       "      <td>False</td>\n",
       "    </tr>\n",
       "    <tr>\n",
       "      <th>1</th>\n",
       "      <td>289.42</td>\n",
       "      <td>0.0</td>\n",
       "      <td>0.0</td>\n",
       "      <td>20</td>\n",
       "      <td>Clouds</td>\n",
       "      <td>few clouds</td>\n",
       "      <td>2016-06-01 02:00:00</td>\n",
       "      <td>321</td>\n",
       "      <td>False</td>\n",
       "    </tr>\n",
       "    <tr>\n",
       "      <th>2</th>\n",
       "      <td>289.01</td>\n",
       "      <td>0.0</td>\n",
       "      <td>0.0</td>\n",
       "      <td>1</td>\n",
       "      <td>Clear</td>\n",
       "      <td>sky is clear</td>\n",
       "      <td>2016-06-01 03:00:00</td>\n",
       "      <td>337</td>\n",
       "      <td>False</td>\n",
       "    </tr>\n",
       "    <tr>\n",
       "      <th>3</th>\n",
       "      <td>288.47</td>\n",
       "      <td>0.0</td>\n",
       "      <td>0.0</td>\n",
       "      <td>1</td>\n",
       "      <td>Clear</td>\n",
       "      <td>sky is clear</td>\n",
       "      <td>2016-06-01 04:00:00</td>\n",
       "      <td>917</td>\n",
       "      <td>False</td>\n",
       "    </tr>\n",
       "    <tr>\n",
       "      <th>4</th>\n",
       "      <td>287.49</td>\n",
       "      <td>0.0</td>\n",
       "      <td>0.0</td>\n",
       "      <td>20</td>\n",
       "      <td>Clouds</td>\n",
       "      <td>few clouds</td>\n",
       "      <td>2016-06-01 05:00:00</td>\n",
       "      <td>3160</td>\n",
       "      <td>False</td>\n",
       "    </tr>\n",
       "    <tr>\n",
       "      <th>5</th>\n",
       "      <td>287.13</td>\n",
       "      <td>0.0</td>\n",
       "      <td>0.0</td>\n",
       "      <td>20</td>\n",
       "      <td>Clouds</td>\n",
       "      <td>few clouds</td>\n",
       "      <td>2016-06-01 06:00:00</td>\n",
       "      <td>6157</td>\n",
       "      <td>False</td>\n",
       "    </tr>\n",
       "    <tr>\n",
       "      <th>6</th>\n",
       "      <td>287.80</td>\n",
       "      <td>0.0</td>\n",
       "      <td>0.0</td>\n",
       "      <td>20</td>\n",
       "      <td>Clouds</td>\n",
       "      <td>few clouds</td>\n",
       "      <td>2016-06-01 07:00:00</td>\n",
       "      <td>6442</td>\n",
       "      <td>False</td>\n",
       "    </tr>\n",
       "    <tr>\n",
       "      <th>7</th>\n",
       "      <td>288.54</td>\n",
       "      <td>0.0</td>\n",
       "      <td>0.0</td>\n",
       "      <td>40</td>\n",
       "      <td>Clouds</td>\n",
       "      <td>scattered clouds</td>\n",
       "      <td>2016-06-01 08:00:00</td>\n",
       "      <td>6264</td>\n",
       "      <td>False</td>\n",
       "    </tr>\n",
       "    <tr>\n",
       "      <th>8</th>\n",
       "      <td>289.06</td>\n",
       "      <td>0.0</td>\n",
       "      <td>0.0</td>\n",
       "      <td>90</td>\n",
       "      <td>Clouds</td>\n",
       "      <td>overcast clouds</td>\n",
       "      <td>2016-06-01 10:00:00</td>\n",
       "      <td>4831</td>\n",
       "      <td>False</td>\n",
       "    </tr>\n",
       "    <tr>\n",
       "      <th>9</th>\n",
       "      <td>289.06</td>\n",
       "      <td>0.0</td>\n",
       "      <td>0.0</td>\n",
       "      <td>90</td>\n",
       "      <td>Clouds</td>\n",
       "      <td>overcast clouds</td>\n",
       "      <td>2016-06-01 10:00:00</td>\n",
       "      <td>4831</td>\n",
       "      <td>False</td>\n",
       "    </tr>\n",
       "  </tbody>\n",
       "</table>\n",
       "</div>"
      ],
      "text/plain": [
       "     temp  rain_1h  snow_1h  clouds_all weather_main weather_description  \\\n",
       "0  289.48      0.0      0.0          20       Clouds          few clouds   \n",
       "1  289.42      0.0      0.0          20       Clouds          few clouds   \n",
       "2  289.01      0.0      0.0           1        Clear        sky is clear   \n",
       "3  288.47      0.0      0.0           1        Clear        sky is clear   \n",
       "4  287.49      0.0      0.0          20       Clouds          few clouds   \n",
       "5  287.13      0.0      0.0          20       Clouds          few clouds   \n",
       "6  287.80      0.0      0.0          20       Clouds          few clouds   \n",
       "7  288.54      0.0      0.0          40       Clouds    scattered clouds   \n",
       "8  289.06      0.0      0.0          90       Clouds     overcast clouds   \n",
       "9  289.06      0.0      0.0          90       Clouds     overcast clouds   \n",
       "\n",
       "            date_time  traffic_volume  holiday  \n",
       "0 2016-06-01 01:00:00             441    False  \n",
       "1 2016-06-01 02:00:00             321    False  \n",
       "2 2016-06-01 03:00:00             337    False  \n",
       "3 2016-06-01 04:00:00             917    False  \n",
       "4 2016-06-01 05:00:00            3160    False  \n",
       "5 2016-06-01 06:00:00            6157    False  \n",
       "6 2016-06-01 07:00:00            6442    False  \n",
       "7 2016-06-01 08:00:00            6264    False  \n",
       "8 2016-06-01 10:00:00            4831    False  \n",
       "9 2016-06-01 10:00:00            4831    False  "
      ]
     },
     "execution_count": 2,
     "metadata": {},
     "output_type": "execute_result"
    }
   ],
   "source": [
    "# Import the metro dataset\n",
    "metro = pd.read_csv('../data/Metro_Interstate_Traffic_Volume.csv',\n",
    "                    parse_dates=['date_time'])\n",
    "\n",
    "# Replace specific holidays with Boolean value for presence of any holiday\n",
    "metro['day'] = metro['date_time'].dt.floor('d')\n",
    "\n",
    "holiday = metro['holiday'].ne('None').groupby(metro['day']).sum() > 0\n",
    "\n",
    "metro.drop('holiday', axis=1, inplace=True)\n",
    "metro = metro.merge(holiday, left_on='day', right_index=True)\n",
    "\n",
    "metro.drop('day', axis=1, inplace=True)\n",
    "\n",
    "# Remove corrupt data points\n",
    "metro = metro[(metro['rain_1h'] < 20) & (metro['temp'] > 200)]\n",
    "\n",
    "# Take subset to reduce overplotting\n",
    "metro_one_week = metro[\n",
    "    (metro['date_time'] > '2016-06-01 00:00:00') &\n",
    "    (metro['date_time'] < '2016-06-08 00:00:00')\n",
    "].reset_index(drop=True)\n",
    "\n",
    "# View the metro dataset\n",
    "metro_one_week.head(10)"
   ]
  },
  {
   "cell_type": "markdown",
   "metadata": {},
   "source": [
    "One final point to mention before we kick off, is an alternative method for extracting a column (as a series) from a Pandas dataframe. This method only works when the column name has no spaces."
   ]
  },
  {
   "cell_type": "code",
   "execution_count": 3,
   "metadata": {},
   "outputs": [
    {
     "data": {
      "text/plain": [
       "0      289.48\n",
       "1      289.42\n",
       "2      289.01\n",
       "3      288.47\n",
       "4      287.49\n",
       "        ...  \n",
       "179    293.97\n",
       "180    293.08\n",
       "181    290.80\n",
       "182    288.13\n",
       "183    286.80\n",
       "Name: temp, Length: 184, dtype: float64"
      ]
     },
     "execution_count": 3,
     "metadata": {},
     "output_type": "execute_result"
    }
   ],
   "source": [
    "metro_one_week.temp"
   ]
  },
  {
   "cell_type": "markdown",
   "metadata": {},
   "source": [
    "### What Makes a Plot?"
   ]
  },
  {
   "cell_type": "markdown",
   "metadata": {},
   "source": [
    "Before we get started, it is helpful to introduce the terminology to describe the components of a plot. In fact, what we would refer to colloquially as a 'plot' is actually called a figure in Matplotlib terminology (the plot is only the data itself, represented as a line, points, etc.)."
   ]
  },
  {
   "cell_type": "markdown",
   "metadata": {},
   "source": [
    "![The Anatomy of a Figure](../images/plot_anatomy.webp)"
   ]
  },
  {
   "cell_type": "markdown",
   "metadata": {},
   "source": [
    "The key components we care about are:\n",
    "\n",
    "- **Figure**: The canvas on which you create your visualisation, and the object that keeps track of your axes.\n",
    "- **Axes**: A region of a figure used representing a data space. Multiple axes can belong to one figure.\n",
    "- **Axis**: A single dimension of a set of axes that controls data limits. Each axes has 2 or 3 axis objects.\n",
    "- **Plot**: The representation of data in the plot (e.g. points, lines, bars, etc.)"
   ]
  },
  {
   "cell_type": "markdown",
   "metadata": {},
   "source": [
    "Using the object-oriented interface, we first create a figure, add a set of axes, and then add a plot. For example, we could create a scatter plot of pH against citric acid levels."
   ]
  },
  {
   "cell_type": "code",
   "execution_count": 13,
   "metadata": {},
   "outputs": [
    {
     "data": {
      "text/plain": [
       "Index(['temp', 'rain_1h', 'snow_1h', 'clouds_all', 'weather_main',\n",
       "       'weather_description', 'date_time', 'traffic_volume', 'holiday'],\n",
       "      dtype='object')"
      ]
     },
     "execution_count": 13,
     "metadata": {},
     "output_type": "execute_result"
    }
   ],
   "source": [
    "metro_one_week.columns"
   ]
  },
  {
   "cell_type": "code",
   "execution_count": 14,
   "metadata": {},
   "outputs": [
    {
     "data": {
      "image/png": "[encoded data removed]",
      "text/plain": [
       "<Figure size 432x288 with 1 Axes>"
      ]
     },
     "metadata": {
      "needs_background": "light"
     },
     "output_type": "display_data"
    }
   ],
   "source": [
    "# Scatter plot of clouds coverage against rainfall\n",
    "fig = plt.figure()\n",
    "ax = fig.add_axes([0, 0, 1, 1])\n",
    "ax.scatter(metro_one_week.rain_1h, metro_one_week.clouds_all)\n",
    "plt.show()"
   ]
  },
  {
   "cell_type": "markdown",
   "metadata": {},
   "source": [
    "> Note, we'll learn how to add axis labels, figure titles, and legends later"
   ]
  },
  {
   "cell_type": "markdown",
   "metadata": {},
   "source": [
    "Let's break down the lines one at a time:\n",
    "\n",
    "1. Create a new figure `fig`\n",
    "2. Add a set of axes to the figure, positioned using `[x, y, w, h]` where the lower-left corner is at `(x, y)` and the width and height are `w` and `h` respectively\n",
    "3. Add a scatter plot to `ax`, using `metro.rain_1h` for the x-axis and `metro.clouds_all` for y\n",
    "4. Display the plot"
   ]
  },
  {
   "cell_type": "markdown",
   "metadata": {},
   "source": [
    "> As a matter of fact, we don't need `plt.show()` when we're creating a plot in the global scope (as opposed to in a loop or function). If we don't include  it, however, we get a text print-out above our plot corresponding to the last Matplotlib command we ran. We can avoid this by ending the final line with a semi-colon, but adding `plt.show()` arguably produces cleaner code."
   ]
  },
  {
   "cell_type": "markdown",
   "metadata": {},
   "source": [
    "We can use this same approach to add multiple axes which can themselves contain multiple plots. Also, just as we use the `scatter` method of an axes object to create a scatter plot, we can use the `plot` method to create a line plot. "
   ]
  },
  {
   "cell_type": "code",
   "execution_count": 24,
   "metadata": {},
   "outputs": [
    {
     "data": {
      "image/png": "[encoded data removed]",
      "text/plain": [
       "<Figure size 432x288 with 2 Axes>"
      ]
     },
     "metadata": {
      "needs_background": "light"
     },
     "output_type": "display_data"
    }
   ],
   "source": [
    "# Scatter plot of clouds against rain/snow\n",
    "# and line plot of temperature over time\n",
    "fig = plt.figure()\n",
    "ax1 = fig.add_axes([0, 0, 1, 0.45])\n",
    "ax2 = fig.add_axes([0, 0.55, 1, 0.45])\n",
    "data={\n",
    "    'a': metro_one_week.rain_1h,\n",
    "    'b': metro_one_week.clouds_all,\n",
    "    'c': metro_one_week.snow_1h,\n",
    "    'd': metro_one_week.date_time,\n",
    "    'e': metro_one_week.temp\n",
    "}\n",
    "ax1.scatter('a', 'b', data=data)\n",
    "ax1.scatter('c', 'b', data=data)\n",
    "ax2.plot('d', 'e', data=data)\n",
    "plt.show()"
   ]
  },
  {
   "cell_type": "markdown",
   "metadata": {},
   "source": [
    "> Matplotlib also offers a shorthand notation for creating plots directly from a Pandas dataframe. Read about it [here](https://matplotlib.org/3.3.1/gallery/misc/keyword_plotting.html)."
   ]
  },
  {
   "cell_type": "markdown",
   "metadata": {},
   "source": [
    "### Subplots"
   ]
  },
  {
   "cell_type": "markdown",
   "metadata": {},
   "source": [
    "Hopefully, you can already see the incredible freedom that the object-oriented interface provides you with. That said, it is a bit of a hassle to manually figure out what position each axes object should have. When we are after a grid-based layout, there is an easier approach using `plt.subplots`, in which the figure and axes are created at the same time. This works for a single set of axes..."
   ]
  },
  {
   "cell_type": "code",
   "execution_count": 25,
   "metadata": {},
   "outputs": [
    {
     "data": {
      "image/png": "[encoded data removed]",
      "text/plain": [
       "<Figure size 432x288 with 1 Axes>"
      ]
     },
     "metadata": {
      "needs_background": "light"
     },
     "output_type": "display_data"
    }
   ],
   "source": [
    "# Single subplot\n",
    "fig, ax = plt.subplots()"
   ]
  },
  {
   "cell_type": "markdown",
   "metadata": {},
   "source": [
    "...or a row/column..."
   ]
  },
  {
   "cell_type": "code",
   "execution_count": 26,
   "metadata": {},
   "outputs": [
    {
     "data": {
      "image/png": "[encoded data removed]",
      "text/plain": [
       "<Figure size 432x288 with 2 Axes>"
      ]
     },
     "metadata": {
      "needs_background": "light"
     },
     "output_type": "display_data"
    }
   ],
   "source": [
    "# Row of two subplots\n",
    "fig, axs = plt.subplots(1, 2)"
   ]
  },
  {
   "cell_type": "markdown",
   "metadata": {},
   "source": [
    "...or a full grid."
   ]
  },
  {
   "cell_type": "code",
   "execution_count": 27,
   "metadata": {},
   "outputs": [
    {
     "data": {
      "image/png": "[encoded data removed]",
      "text/plain": [
       "<Figure size 432x288 with 6 Axes>"
      ]
     },
     "metadata": {
      "needs_background": "light"
     },
     "output_type": "display_data"
    }
   ],
   "source": [
    "# 2x3 grid of subplots\n",
    "fig, axs = plt.subplots(2, 3)"
   ]
  },
  {
   "cell_type": "markdown",
   "metadata": {},
   "source": [
    "In the middle case, `axs` is a list of axes, and in the latter, it is a list of lists of axes."
   ]
  },
  {
   "cell_type": "code",
   "execution_count": 28,
   "metadata": {},
   "outputs": [
    {
     "data": {
      "text/plain": [
       "array([[<AxesSubplot:>, <AxesSubplot:>, <AxesSubplot:>],\n",
       "       [<AxesSubplot:>, <AxesSubplot:>, <AxesSubplot:>]], dtype=object)"
      ]
     },
     "execution_count": 28,
     "metadata": {},
     "output_type": "execute_result"
    }
   ],
   "source": [
    "# View `axs`\n",
    "axs"
   ]
  },
  {
   "cell_type": "markdown",
   "metadata": {},
   "source": [
    "We can then add a plot to one of these axes objects by using its index in the list."
   ]
  },
  {
   "cell_type": "code",
   "execution_count": 29,
   "metadata": {},
   "outputs": [
    {
     "data": {
      "image/png": "[encoded data removed]",
      "text/plain": [
       "<Figure size 432x288 with 6 Axes>"
      ]
     },
     "metadata": {
      "needs_background": "light"
     },
     "output_type": "display_data"
    }
   ],
   "source": [
    "# Clouds vs rain on axes in row 2, column 2\n",
    "fig, axs = plt.subplots(2, 3)\n",
    "axs[1][1].scatter(metro_one_week.rain_1h, metro_one_week.clouds_all)\n",
    "plt.show()"
   ]
  },
  {
   "cell_type": "markdown",
   "metadata": {},
   "source": [
    "> For non-grid layouts, you can use a `GridSpec` object, documented [here](https://matplotlib.org/2.0.2/users/gridspec.html#gridspec-and-subplotspec)."
   ]
  },
  {
   "cell_type": "markdown",
   "metadata": {},
   "source": [
    "## Going Beyond"
   ]
  },
  {
   "cell_type": "markdown",
   "metadata": {},
   "source": [
    "### Colour, Size, and Transparency"
   ]
  },
  {
   "cell_type": "markdown",
   "metadata": {},
   "source": [
    "There are many ways in which plots can be further modified. The best place to find out about these is the respective documentation for each plot type. Matplotlib is notorious for being inconsistent and arbitrary in the plot properties that are available and the names used to access them, so don't assume that what works for one plot type will work for another too. Most properties can either be set to a single value or mapped to an array/series the same length as the data."
   ]
  },
  {
   "cell_type": "markdown",
   "metadata": {},
   "source": [
    "We will introduce a few key properties for scatter plots. We start with colour."
   ]
  },
  {
   "cell_type": "code",
   "execution_count": null,
   "metadata": {},
   "outputs": [],
   "source": [
    "# Green scatter plot of clouds vs temperature\n",
    "fig, ax = plt.subplots()\n",
    "ax.scatter(metro_one_week.temp, metro_one_week.clouds_all, c=\"green\")\n",
    "plt.show()"
   ]
  },
  {
   "cell_type": "markdown",
   "metadata": {},
   "source": [
    "> You can view a list of named colours [here](https://matplotlib.org/3.1.0/gallery/color/named_colors.html). You are also free to use hex codes if you are familiar with those."
   ]
  },
  {
   "cell_type": "code",
   "execution_count": null,
   "metadata": {},
   "outputs": [],
   "source": [
    "# Same as above but coloured by rainfall\n",
    "fig, ax = plt.subplots()\n",
    "ax.scatter(metro_one_week.temp, metro_one_week.clouds_all, c=metro_one_week.rain_1h)\n",
    "plt.show()"
   ]
  },
  {
   "cell_type": "markdown",
   "metadata": {},
   "source": [
    "You may have noticed that there was considerable overplotting in our rain-cloud plot before. We can resolve this by counting how many points are overlapping and using this as the size of our points. Note, Matplotlib is more consistent with columns than indexes so when grouping, we often want to use `as_index=False`."
   ]
  },
  {
   "cell_type": "code",
   "execution_count": null,
   "metadata": {},
   "outputs": [],
   "source": [
    "# Count how many values share each rainfall/cloud coverage pair\n",
    "rain_cloud = metro_one_week.groupby(['rain_1h', 'clouds_all'],\n",
    "                                    as_index=False).size()\n",
    "rain_cloud.head()"
   ]
  },
  {
   "cell_type": "code",
   "execution_count": null,
   "metadata": {},
   "outputs": [],
   "source": [
    "# Plot cloud coverage vs rainfall as a count plot\n",
    "fig, ax = plt.subplots()\n",
    "ax.scatter(rain_cloud.rain_1h, rain_cloud.clouds_all, s=rain_cloud['size'] * 10)\n",
    "plt.show()"
   ]
  },
  {
   "cell_type": "markdown",
   "metadata": {},
   "source": [
    "An alternative way of handling overplotting is to make the points transparent. This can be achieved using the `alpha` property. Here, 0 corresponds to pure transparency and 1 is completely opaque."
   ]
  },
  {
   "cell_type": "code",
   "execution_count": null,
   "metadata": {},
   "outputs": [],
   "source": [
    "# Plot all data points with transparency\n",
    "fig, ax = plt.subplots()\n",
    "ax.scatter(metro.rain_1h, metro.clouds_all, alpha=0.1)\n",
    "plt.show()"
   ]
  },
  {
   "cell_type": "markdown",
   "metadata": {},
   "source": [
    "Line plots have unique properties such as line style (`ls`) and line width (`lw`). See the [documentation](https://matplotlib.org/3.1.1/api/_as_gen/matplotlib.pyplot.plot.html) for the values that `ls` can take."
   ]
  },
  {
   "cell_type": "code",
   "execution_count": null,
   "metadata": {},
   "outputs": [],
   "source": [
    "fig, ax = plt.subplots()\n",
    "ax.plot(metro_one_week.date_time, metro_one_week.temp, ls = '--', lw = 6)\n",
    "plt.show()"
   ]
  },
  {
   "cell_type": "markdown",
   "metadata": {},
   "source": [
    "> Unlike in other languages (e.g. R), Matplotlib does not allow you to change the colour, width, or transparency of a line plot differently throughout the line. Instead, you are forced to break the line up into individual segments which each have fixed properties. Read more about this [here](https://matplotlib.org/3.1.1/gallery/lines_bars_and_markers/multicolored_line.html)."
   ]
  },
  {
   "cell_type": "markdown",
   "metadata": {},
   "source": [
    "### Text and Gridlines"
   ]
  },
  {
   "cell_type": "markdown",
   "metadata": {},
   "source": [
    "So far our plots have been extremely unreadable. Let's remedy that by adding axis labels and a title."
   ]
  },
  {
   "cell_type": "code",
   "execution_count": null,
   "metadata": {},
   "outputs": [],
   "source": [
    "# Create a labelled plot of temperature over time\n",
    "fig, ax = plt.subplots()\n",
    "ax.plot(metro_one_week.date_time, metro_one_week.temp)\n",
    "ax.set_xlabel(\"Date\")\n",
    "ax.set_ylabel(\"Temperature (Kelvin)\")\n",
    "ax.set_title(\"Temperature over Time\")\n",
    "plt.show()"
   ]
  },
  {
   "cell_type": "markdown",
   "metadata": {},
   "source": [
    "> When using the pyplot interface, almost all methods for setting text, ticks, and gridlines are different. The usual change is the introduction of `set_` at the start of the method name, but there are exceptions to this rule. The important takeaway is to make sure the method documentation you're looking at belongs to `Axes` and not `pyplot`."
   ]
  },
  {
   "cell_type": "markdown",
   "metadata": {},
   "source": [
    "We can also rotate the axis labels and font size."
   ]
  },
  {
   "cell_type": "code",
   "execution_count": null,
   "metadata": {},
   "outputs": [],
   "source": [
    "# Rotate the x-axis labels by 90 degrees and shrink to size 8\n",
    "fig, ax = plt.subplots()\n",
    "ax.plot(metro_one_week.date_time, metro_one_week.temp)\n",
    "ax.set_xlabel('Date')\n",
    "ax.xaxis.set_tick_params(rotation=90, labelsize=8)\n",
    "ax.set_ylabel('Temperature (Kelvin)')\n",
    "ax.set_title('Temperature at MN DoT ATR station 301')\n",
    "plt.show()"
   ]
  },
  {
   "cell_type": "markdown",
   "metadata": {},
   "source": [
    "In a similar way, we can set axis limits."
   ]
  },
  {
   "cell_type": "code",
   "execution_count": null,
   "metadata": {},
   "outputs": [],
   "source": [
    "# Expand the y-axis range to (280, 305)\n",
    "fig, ax = plt.subplots()\n",
    "ax.plot(metro_one_week.date_time, metro_one_week.temp)\n",
    "ax.set_xlabel('Date')\n",
    "ax.xaxis.set_tick_params(rotation=90, labelsize=8)\n",
    "ax.set_ylabel('Temperature (Kelvin)')\n",
    "ax.set_ylim(280, 305)\n",
    "ax.set_title('Temperature at MN DoT ATR station 301')\n",
    "plt.show()"
   ]
  },
  {
   "cell_type": "markdown",
   "metadata": {},
   "source": [
    "Finally, we can add grid lines. By default, these appear in front of the plots, so we have to overwrite this behaviour with `zorder=0`"
   ]
  },
  {
   "cell_type": "code",
   "execution_count": null,
   "metadata": {},
   "outputs": [],
   "source": [
    "# Add major gridlines in the background\n",
    "fig, ax = plt.subplots()\n",
    "ax.plot(metro_one_week.date_time, metro_one_week.temp - 273)\n",
    "ax.set_xlabel('Date')\n",
    "ax.xaxis.set_tick_params(rotation=90, labelsize=8)\n",
    "ax.set_ylabel('Temperature (Kelvin)')\n",
    "ax.set_ylim(280, 305)\n",
    "ax.set_title('Temperature at MN DoT ATR station 301')\n",
    "ax.grid(zorder=0)\n",
    "plt.show()"
   ]
  },
  {
   "cell_type": "markdown",
   "metadata": {},
   "source": [
    "If you would like minor grid lines too, this has to be turned on before you can modify its properties."
   ]
  },
  {
   "cell_type": "code",
   "execution_count": null,
   "metadata": {},
   "outputs": [],
   "source": [
    "# Add minor gridlines in the background with moderate transparency\n",
    "fig, ax = plt.subplots()\n",
    "ax.plot(metro_one_week.date_time, metro_one_week.temp)\n",
    "ax.set_xlabel('Date')\n",
    "ax.xaxis.set_tick_params(rotation=90, labelsize=8)\n",
    "ax.set_ylabel('Temperature (Kelvin)')\n",
    "ax.set_ylim(280, 305)\n",
    "ax.set_title('Temperature at MN DoT ATR station 301')\n",
    "ax.grid(zorder=0)\n",
    "# ...\n",
    "plt.show()"
   ]
  },
  {
   "cell_type": "markdown",
   "metadata": {},
   "source": [
    "### Further Plot Types"
   ]
  },
  {
   "cell_type": "markdown",
   "metadata": {},
   "source": [
    "We will now quickly run through some common plot types. In fact, the types of plots that Matplotlib can easily create is limited, and so many people prefer to use [Seaborn](https://seaborn.pydata.org/) to create plots before using Matplotlib to refine them."
   ]
  },
  {
   "cell_type": "markdown",
   "metadata": {},
   "source": [
    "We start with the histogram. A few important parameters are:\n",
    "- `bins`: number of or locations of bins (default: 10)\n",
    "- `density`: if `True`, plot density rather than counts\n",
    "- `edgecolor`/`color`: self-explanatory"
   ]
  },
  {
   "cell_type": "code",
   "execution_count": null,
   "metadata": {},
   "outputs": [],
   "source": [
    "# Create a histogram of temperature\n",
    "fig, ax = plt.subplots()\n",
    "ax.hist(metro.temp, bins=30, density=True, color=\"lightgray\", edgecolor=\"black\")\n",
    "plt.show()"
   ]
  },
  {
   "cell_type": "code",
   "execution_count": null,
   "metadata": {},
   "outputs": [],
   "source": [
    "pd.show_versions()"
   ]
  },
  {
   "cell_type": "markdown",
   "metadata": {},
   "source": [
    "We can also create bar charts. When our x-axis is numeric, Matplotlib isn't sure where the axis ticks should be and what the corresponding labels are, so we often have to set these manually."
   ]
  },
  {
   "cell_type": "code",
   "execution_count": null,
   "metadata": {},
   "outputs": [],
   "source": [
    "# Create a bar chart of average traffic on holidays and regular days\n",
    "avg_traffic = metro.groupby('holiday', as_index=False)['traffic_volume'].mean()\n",
    "fig, ax = plt.subplots()\n",
    "ax.bar(avg_traffic['holiday'], avg_traffic['traffic_volume'])\n",
    "ax.set_xticks([0, 1])\n",
    "ax.set_xticklabels(['Not Holiday', 'Holiday'])\n",
    "plt.show()"
   ]
  },
  {
   "cell_type": "markdown",
   "metadata": {},
   "source": [
    "> We can also create stacked bar charts, but unfortunately the approach is not the most intuitive so we'll skip it here. You can read the relevant help guide [here](https://matplotlib.org/3.1.1/gallery/lines_bars_and_markers/bar_stacked.html) however."
   ]
  },
  {
   "cell_type": "markdown",
   "metadata": {},
   "source": [
    "## The Final Touches"
   ]
  },
  {
   "cell_type": "markdown",
   "metadata": {},
   "source": [
    "### Graphical Properties"
   ]
  },
  {
   "cell_type": "markdown",
   "metadata": {},
   "source": [
    "Now that we know how to create some basic plots, we may want to export these for use in presentations and write-ups. Before we do this, we need to learn how to improve the quality of our plots."
   ]
  },
  {
   "cell_type": "markdown",
   "metadata": {},
   "source": [
    "The most common way to improve the aesthetics of our visualisations is to increase the figure size. This makes are plot less cramped, especially when we have multiple subplots. This can be controlled using `figsize` parameter of `plt.figure` or `plt.subplots`."
   ]
  },
  {
   "cell_type": "code",
   "execution_count": null,
   "metadata": {},
   "outputs": [],
   "source": [
    "# Set the plot to be 12x6 inches\n",
    "fig, (ax1, ax2) = plt.subplots(1, 2, figsize=(12, 6))\n",
    "ax1.scatter(metro_one_week.rain_1h, metro_one_week.clouds_all)\n",
    "ax1.scatter(metro_one_week.snow_1h, metro_one_week.clouds_all)\n",
    "ax2.plot(metro_one_week.date_time, metro_one_week.temp)\n",
    "plt.show()"
   ]
  },
  {
   "cell_type": "markdown",
   "metadata": {},
   "source": [
    "We can also control the resolution of our graphics using the `dpi` parameter. To emphasise the effect that this has, we can set it to a ridiculously low value."
   ]
  },
  {
   "cell_type": "code",
   "execution_count": null,
   "metadata": {},
   "outputs": [],
   "source": [
    "# Create a 5x5 inch plot at 20dpi\n",
    "fig, ax = plt.subplots(figsize=(5, 5), dpi=20)  # <- modify this\n",
    "ax.scatter(metro.rain_1h, metro.clouds_all, alpha=0.1)\n",
    "plt.show()"
   ]
  },
  {
   "cell_type": "markdown",
   "metadata": {},
   "source": [
    "Finally, Matplotlib defaults to creating graphics with transparent backgrounds. We can change this using `set_facecolor`. Note that this is a method of the figure, not one particular axes object."
   ]
  },
  {
   "cell_type": "code",
   "execution_count": null,
   "metadata": {},
   "outputs": [],
   "source": [
    "# Set the figure background to a light grey\n",
    "fig, ax = plt.subplots()\n",
    "ax.scatter(metro_one_week.temp, metro_one_week.clouds_all)\n",
    "fig.set_facecolor('red')\n",
    "plt.show()"
   ]
  },
  {
   "cell_type": "markdown",
   "metadata": {},
   "source": [
    "### Legends and Colourbars"
   ]
  },
  {
   "cell_type": "markdown",
   "metadata": {},
   "source": [
    "The final requirement for making our plots readable is the introduction of legends and colourbars. To add a legend, we must provide labels for each of our plots and then add the legend at the end. "
   ]
  },
  {
   "cell_type": "code",
   "execution_count": null,
   "metadata": {},
   "outputs": [],
   "source": [
    "# Plot of rainfall and snowfall over time\n",
    "fig, ax = plt.subplots()\n",
    "ax.plot(metro_one_week.date_time, metro_one_week.rain_1h, label=\"Rain\")  # <- modify this\n",
    "ax.plot(metro_one_week.date_time, metro_one_week.snow_1h, label=\"Snow\")  # <- modify this\n",
    "ax.legend()\n",
    "plt.show()"
   ]
  },
  {
   "cell_type": "markdown",
   "metadata": {},
   "source": [
    "A few useful optional parameters are:\n",
    "- `loc`: location of legend (\"best\", \"upper right\", \"center right\", \"lower center\", etc.)\n",
    "- `ncol`: number of columns \n",
    "- `title`: legend title"
   ]
  },
  {
   "cell_type": "markdown",
   "metadata": {},
   "source": [
    "> Custom legends can be created using `ax.legend` too. Read the documentation to learn how."
   ]
  },
  {
   "cell_type": "markdown",
   "metadata": {},
   "source": [
    "When mapping a continuous variable to the colour of a scatter plot, we can also add a colour bar. The approach for doing this is somewhat unusual. For one, the colour bar belongs to the figure rather than any set of axes, and it requires a reference to the scatter plot to be passed as an argument."
   ]
  },
  {
   "cell_type": "code",
   "execution_count": null,
   "metadata": {},
   "outputs": [],
   "source": [
    "# Same as above but coloured by rainfall with colour bar\n",
    "fig, ax = plt.subplots()\n",
    "sc = ax.scatter(metro_one_week.temp, metro_one_week.clouds_all, c=metro_one_week.rain_1h)  # <- modify this\n",
    "fig.colorbar(sc)\n",
    "plt.show()"
   ]
  },
  {
   "cell_type": "markdown",
   "metadata": {},
   "source": [
    "### Saving Figures"
   ]
  },
  {
   "cell_type": "markdown",
   "metadata": {},
   "source": [
    "Finally, we can save a figure by replacing `plt.show()` with `plt.savefig()`."
   ]
  },
  {
   "cell_type": "code",
   "execution_count": null,
   "metadata": {},
   "outputs": [],
   "source": [
    "# Save the figure as a png file\n",
    "fig, ax = plt.subplots()\n",
    "ax.scatter(metro_one_week.temp, metro_one_week.clouds_all)\n",
    "fig.set_facecolor('lightgray')\n",
    "plt.savefig(\"cloud_temp.png\")"
   ]
  }
 ],
 "metadata": {
  "kernelspec": {
   "display_name": "Python for Data Science",
   "language": "python",
   "name": "pyds"
  },
  "language_info": {
   "codemirror_mode": {
    "name": "ipython",
    "version": 3
   },
   "file_extension": ".py",
   "mimetype": "text/x-python",
   "name": "python",
   "nbconvert_exporter": "python",
   "pygments_lexer": "ipython3",
   "version": "3.8.6"
  }
 },
 "nbformat": 4,
 "nbformat_minor": 4
}
